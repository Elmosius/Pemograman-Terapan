{
  "cells": [
    {
      "cell_type": "markdown",
      "metadata": {
        "id": "uBBrpUyck8V6"
      },
      "source": [
        "<small> Elmosius Suli - 2272008 <br>\n",
        "**Pemograman Terapan - Unitesting **</small>\n",
        "\n",
        "\n",
        "\n",
        "\n",
        "\n"
      ]
    },
    {
      "cell_type": "code",
      "execution_count": null,
      "metadata": {
        "id": "P7yBACMNkhG7"
      },
      "outputs": [],
      "source": [
        "import pytest"
      ]
    },
    {
      "cell_type": "markdown",
      "metadata": {
        "id": "JID9xCvalUjj"
      },
      "source": [
        "> # <small>Nomor 1\n",
        "\n",
        "Soal :\n",
        "\n",
        "Fungsi Menghitung Luas Persegi Panjang:\n",
        "Buatlah unit test untuk fungsi hitung_luas_persegi_panjang yang\n",
        "menerima dua parameter: panjang dan lebar. Fungsi ini menghitung\n",
        "dan mengembalikan luas persegi panjang.\n",
        "Skenario:<br>\n",
        "● Panjang dan lebar positif. <br>\n",
        "● Panjang dan lebar nol.<br>\n",
        "● Salah satu atau kedua parameter bukan angka. </small>\n",
        "\n"
      ]
    },
    {
      "cell_type": "code",
      "execution_count": null,
      "metadata": {
        "id": "trXZ5GIYk_Kx"
      },
      "outputs": [],
      "source": [
        "def hitung_rata_rata(list_angka):\n",
        "    if not all(isinstance(i, int) for i in list_angka):\n",
        "        raise TypeError(\"List harus berisi angka\")\n",
        "    if len(list_angka) == 0:\n",
        "        return 0\n",
        "    return sum(list_angka) / len(list_angka)\n",
        "\n",
        "def test_hitung_rata_rata():\n",
        "    assert hitung_rata_rata([1, 2, 3, 4, 5]) == 3\n",
        "    assert hitung_rata_rata([]) == 0\n",
        "    with pytest.raises(TypeError):\n",
        "        hitung_rata_rata([1, 2, \"tiga\", 4, 5])"
      ]
    },
    {
      "cell_type": "markdown",
      "metadata": {
        "id": "sOriKxGBtukR"
      },
      "source": [
        "> # <small>Nomor 2\n",
        "\n",
        "Soal :\n",
        "\n",
        "Fungsi Mengecek Keanggotaan List:\n",
        "Buatlah unit test untuk fungsi cek_anggota_list yang menerima dua\n",
        "parameter: list dan elemen. Fungsi ini mengembalikan True jika elemen\n",
        "ada di list, dan False jika tidak.\n",
        "Skenario: <br>\n",
        "● Elemen ada di list. <br>\n",
        "● Elemen tidak ada di list.<br>\n",
        "● List kosong. <br>\n",
        "● Elemen bukan tipe data yang sama dengan elemen list. </small>\n"
      ]
    },
    {
      "cell_type": "code",
      "execution_count": null,
      "metadata": {
        "id": "x5hR84Uvtt1A"
      },
      "outputs": [],
      "source": [
        "def cek_anggota_list(list, elemen):\n",
        "    return elemen in list\n",
        "\n",
        "def test_cek_anggota_list():\n",
        "    assert cek_anggota_list([1, 2, 3, 4, 5], 3) == True\n",
        "    assert cek_anggota_list([1, 2, 3, 4, 5], 6) == False\n",
        "    assert cek_anggota_list([], 1) == False\n",
        "    assert cek_anggota_list([1, 2, 3, 4, 5], \"1\") == False\n"
      ]
    },
    {
      "cell_type": "markdown",
      "metadata": {
        "id": "I6spjr24nM2X"
      },
      "source": [
        "> # <small>Nomor 3\n",
        "\n",
        "Soal :\n",
        "\n",
        "Fungsi Mengurutkan List:\n",
        "Buatlah unit test untuk fungsi urutkan_list yang menerima satu\n",
        "parameter: list. Fungsi ini mengurutkan list dalam urutan ascending dan\n",
        "mengembalikan list yang telah diurutkan.\n",
        "Skenario: <br>\n",
        "● List berisi angka.<br>\n",
        "● List berisi string.<br>\n",
        "● List kosong.<br>\n",
        "● List berisi elemen dengan tipe data berbeda </small>\n"
      ]
    },
    {
      "cell_type": "code",
      "source": [
        "def urutkan_list(list):\n",
        "    n = len(list)\n",
        "    for i in range(n):\n",
        "        for j in range(0, n-i-1):\n",
        "            if list[j] > list[j+1] :\n",
        "                list[j], list[j+1] = list[j+1], list[j]\n",
        "    return list\n",
        "\n",
        "def test_urutkan_list():\n",
        "    assert urutkan_list([5, 2, 3, 4, 1]) == [1, 2, 3, 4, 5]\n",
        "    assert urutkan_list([\"d\", \"a\", \"c\", \"b\"]) == [\"a\", \"b\", \"c\", \"d\"]\n",
        "    assert urutkan_list([]) == []\n",
        "    with pytest.raises(TypeError):\n",
        "        urutkan_list([1, \"dua\", 3, \"empat\"])\n",
        "\n"
      ],
      "metadata": {
        "id": "3T2ZHV0Pn-U0"
      },
      "execution_count": null,
      "outputs": []
    },
    {
      "cell_type": "markdown",
      "metadata": {
        "id": "hHmnXZt_oLdN"
      },
      "source": [
        "> # <small>Nomor 4\n",
        "\n",
        "Soal :\n",
        "\n",
        "Fungsi Menghitung Rata-rata:\n",
        "Buatlah unit test untuk fungsi hitung_rata_rata yang menerima satu\n",
        "parameter: list angka. Fungsi ini menghitung dan mengembalikan\n",
        "rata-rata dari list angka.\n",
        "Skenario: <br>\n",
        "● List berisi angka. <br>\n",
        "● List kosong. <br>\n",
        "● List berisi elemen bukan angka. </small>\n",
        "\n"
      ]
    },
    {
      "cell_type": "code",
      "source": [
        "def hitung_rata_rata(list_angka):\n",
        "    if not all(isinstance(i, int) for i in list_angka):\n",
        "        raise TypeError(\"List harus berisi angka\")\n",
        "    if len(list_angka) == 0:\n",
        "        return 0\n",
        "    return sum(list_angka) / len(list_angka)\n",
        "\n",
        "def test_hitung_rata_rata():\n",
        "    assert hitung_rata_rata([1, 2, 3, 4, 5]) == 3\n",
        "    assert hitung_rata_rata([]) == 0\n",
        "    with pytest.raises(TypeError):\n",
        "        hitung_rata_rata([1, 2, \"tiga\", 4, 5])\n"
      ],
      "metadata": {
        "id": "eKWD_H-13P5S"
      },
      "execution_count": null,
      "outputs": []
    },
    {
      "cell_type": "markdown",
      "metadata": {
        "id": "zc0gD7B3oTC0"
      },
      "source": [
        "> # <small>Nomor 5\n",
        "\n",
        "Soal :\n",
        "\n",
        " Fungsi Membalik String:\n",
        "Buatlah unit test untuk fungsi balik_string yang menerima satu\n",
        "parameter: string. Fungsi ini membalik string dan mengembalikan\n",
        "string yang telah dibalik.\n",
        "Skenario: <br>\n",
        "● String dengan huruf kecil. <br>\n",
        "● String dengan huruf besar. <br>\n",
        "● String dengan campuran huruf kecil dan besar.<br>\n",
        "● String kosong. </small>\n"
      ]
    },
    {
      "cell_type": "code",
      "source": [
        "def balik_string(s):\n",
        "    return s[::-1]\n",
        "\n",
        "def test_balik_string():\n",
        "    assert balik_string(\"abcde\") == \"edcba\"\n",
        "    assert balik_string(\"ABCDE\") == \"EDCBA\"\n",
        "    assert balik_string(\"AbCdE\") == \"EdCbA\"\n",
        "    assert balik_string(\"\") == \"\"\n"
      ],
      "metadata": {
        "id": "jN5YV0Xe3Qk4"
      },
      "execution_count": null,
      "outputs": []
    }
  ],
  "metadata": {
    "colab": {
      "provenance": []
    },
    "kernelspec": {
      "display_name": "Python 3",
      "name": "python3"
    },
    "language_info": {
      "name": "python"
    }
  },
  "nbformat": 4,
  "nbformat_minor": 0
}