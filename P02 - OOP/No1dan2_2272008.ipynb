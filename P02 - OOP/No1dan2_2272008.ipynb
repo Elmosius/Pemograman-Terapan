{
  "nbformat": 4,
  "nbformat_minor": 0,
  "metadata": {
    "colab": {
      "provenance": []
    },
    "kernelspec": {
      "name": "python3",
      "display_name": "Python 3"
    },
    "language_info": {
      "name": "python"
    }
  },
  "cells": [
    {
      "cell_type": "code",
      "execution_count": null,
      "metadata": {
        "id": "MSKUNXyoZ897"
      },
      "outputs": [],
      "source": [
        "# Pertemuan 2 Terapan (OOP)\n",
        "# Penulis : Elmosius Suli\n",
        "\n",
        "from abc import ABC, abstractmethod\n",
        "class BangunDatar(ABC):\n",
        "    def __init__(self,size: int) -> None:\n",
        "        self.N = size\n",
        "\n",
        "    @abstractmethod\n",
        "    def cetak_pola(self):\n",
        "        pass\n",
        "\n",
        "class Segitiga(BangunDatar):\n",
        "    def __init__(self,size: int) -> None:\n",
        "        super().__init__(size)\n",
        "\n",
        "    def cetak_pola(self):\n",
        "        for i in range(self.N):\n",
        "            for j in range(i):\n",
        "                print(\"*\", end=\" \")\n",
        "            print()\n",
        "\n",
        "class Persegi(BangunDatar):\n",
        "    def __init__(self,size: int) -> None:\n",
        "        super().__init__(size)\n",
        "\n",
        "    def cetak_pola(self):\n",
        "        for i in range(self.N):\n",
        "            for j in range(self.N):\n",
        "                print(\"*\", end=\" \")\n",
        "            print()"
      ]
    },
    {
      "cell_type": "code",
      "source": [
        "def main():\n",
        "    bidang1 = Segitiga(3)\n",
        "    bidang2 = Persegi(5)\n",
        "\n",
        "    # Segitiga\n",
        "    print('Segitiga :')\n",
        "    bidang1.cetak_pola()\n",
        "    print()\n",
        "\n",
        "    # Kotak\n",
        "    print('Kotak :')\n",
        "    bidang2.cetak_pola()\n",
        "    print()\n",
        "if __name__ == '__main__':\n",
        "    main()"
      ],
      "metadata": {
        "colab": {
          "base_uri": "https://localhost:8080/"
        },
        "id": "Ym-cV_mcmyWv",
        "outputId": "b9dade29-eb6b-43c8-b458-5c0214db0efe"
      },
      "execution_count": null,
      "outputs": [
        {
          "output_type": "stream",
          "name": "stdout",
          "text": [
            "Segitiga :\n",
            "\n",
            "* \n",
            "* * \n",
            "\n",
            "Kotak :\n",
            "* * * * * \n",
            "* * * * * \n",
            "* * * * * \n",
            "* * * * * \n",
            "* * * * * \n",
            "\n"
          ]
        }
      ]
    },
    {
      "cell_type": "code",
      "source": [
        "class Gudang():\n",
        "    def __init__(self) -> None:\n",
        "        self.kotak_array = []\n",
        "\n",
        "    def tambahKotak(self,kotak):\n",
        "        self.kotak_array.append(kotak)\n",
        "\n",
        "    def hitungTotalVolume(self):\n",
        "        total = 0\n",
        "        for i in self.kotak_array:\n",
        "            total += i\n",
        "        return total\n",
        "\n",
        "class Kotak():\n",
        "    def __init__(self, panjang: float, lebar: float, tinggi: float) -> None:\n",
        "        self.panjang = panjang\n",
        "        self.lebar = lebar\n",
        "        self.tinggi = tinggi\n",
        "\n",
        "    def hitungVolume(self):\n",
        "        return self.panjang * self.lebar * self.tinggi"
      ],
      "metadata": {
        "id": "mSnnh2P7m1DW"
      },
      "execution_count": null,
      "outputs": []
    },
    {
      "cell_type": "code",
      "source": [
        "def main():\n",
        "    # kotak a\n",
        "    a = Kotak(4,3,6)\n",
        "\n",
        "    # kotak b\n",
        "    b = Kotak(2,5,7)\n",
        "\n",
        "    gudang = Gudang()\n",
        "    gudang.tambahKotak(a.hitungVolume())\n",
        "    gudang.tambahKotak(b.hitungVolume())\n",
        "\n",
        "    print(\"Total volume yang ada di gudang : \")\n",
        "    print(gudang.hitungTotalVolume())\n",
        "\n",
        "\n",
        "if __name__ == '__main__':\n",
        "    main()\n"
      ],
      "metadata": {
        "colab": {
          "base_uri": "https://localhost:8080/"
        },
        "id": "jHRRk6arBQVT",
        "outputId": "3a41dc43-cfbc-40c9-a2e8-0980a00ea070"
      },
      "execution_count": null,
      "outputs": [
        {
          "output_type": "stream",
          "name": "stdout",
          "text": [
            "Total volume yang ada di guddang : \n",
            "142\n"
          ]
        }
      ]
    }
  ]
}