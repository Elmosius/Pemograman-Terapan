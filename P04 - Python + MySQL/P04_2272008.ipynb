{
  "cells": [
    {
      "cell_type": "markdown",
      "metadata": {
        "id": "NTSMItMDbYS2"
      },
      "source": [
        "<small> Elmosius Suli - 2272008 <br>\n",
        "**Pemograman Terapan - SQL + Python (CRUD)**\n",
        "---\n",
        "\n",
        "> Membuat database dengan nama books_db, lalu memiliki tabel books isbn = isbn, title, author, year_published. Buat isbn sebagai primary key. Lalu\n",
        "buat kode program python CRUD ke database. Sebagai latihan pastikan input dapat dimasukkan\n",
        "oleh pengguna (bukan hard coded di kode program) => buat di main. </small>\n",
        "\n",
        "\n",
        "\n",
        "\n",
        "\n"
      ]
    },
    {
      "cell_type": "code",
      "source": [
        "pip install pymysql"
      ],
      "metadata": {
        "colab": {
          "base_uri": "https://localhost:8080/"
        },
        "id": "8UUjR4-02U2c",
        "outputId": "5a068a0d-4209-453c-a9dd-85573f4c172b"
      },
      "execution_count": null,
      "outputs": [
        {
          "output_type": "stream",
          "name": "stdout",
          "text": [
            "Collecting pymysql\n",
            "  Downloading PyMySQL-1.1.0-py3-none-any.whl (44 kB)\n",
            "\u001b[?25l     \u001b[90m━━━━━━━━━━━━━━━━━━━━━━━━━━━━━━━━━━━━━━━━\u001b[0m \u001b[32m0.0/44.8 kB\u001b[0m \u001b[31m?\u001b[0m eta \u001b[36m-:--:--\u001b[0m\r\u001b[2K     \u001b[90m━━━━━━━━━━━━━━━━━━━━━━━━━━━━━━━━━━━━━━━━\u001b[0m \u001b[32m44.8/44.8 kB\u001b[0m \u001b[31m1.5 MB/s\u001b[0m eta \u001b[36m0:00:00\u001b[0m\n",
            "\u001b[?25hInstalling collected packages: pymysql\n",
            "Successfully installed pymysql-1.1.0\n"
          ]
        }
      ]
    },
    {
      "cell_type": "code",
      "execution_count": null,
      "metadata": {
        "id": "wmQpcXIohrsL"
      },
      "outputs": [],
      "source": [
        "import pymysql"
      ]
    },
    {
      "cell_type": "code",
      "execution_count": null,
      "metadata": {
        "id": "axUjNluMiSpW"
      },
      "outputs": [],
      "source": [
        "def connection():\n",
        "    return pymysql.connect(\n",
        "        host='127.0.0.1',\n",
        "        user='root',\n",
        "        password=''\n",
        " )\n",
        "\n",
        "def create_db(conn,db_name):\n",
        "    with conn.cursor() as cursor:\n",
        "        cursor.execute(f'CREATE DATABASE IF NOT EXISTS {db_name}')\n",
        "    conn.commit()\n",
        "\n",
        "def create_tb(conn,db_name,table_name, column):\n",
        "    with conn.cursor() as cursor:\n",
        "        cursor.execute(f'USE {db_name}')\n",
        "        cursor.execute(f'CREATE TABLE IF NOT EXISTS {table_name}({column})')\n",
        "\n",
        "def insert(conn,isbn,title,author,year_published):\n",
        "    with conn.cursor() as cursor:\n",
        "      cursor.execute('USE books_db')\n",
        "      cursor.execute(f\"INSERT INTO books VALUES \\\n",
        "      ('{isbn}', '{title}', '{author}', '{year_published}')\")\n",
        "    conn.commit()\n",
        "\n",
        "def update(conn,isbn,title,author,year_published):\n",
        "    with conn.cursor() as cursor:\n",
        "      cursor.execute('USE books_db')\n",
        "      cursor.execute(f'UPDATE books \\\n",
        "      SET title = \"{title}\", author = \"{author}\",\\\n",
        "      year_published = \"{year_published}\" \\\n",
        "      WHERE isbn = \"{isbn}\"')\n",
        "\n",
        "def delete(conn, isbn):\n",
        "    with conn.cursor() as cursor:\n",
        "        cursor.execute('USE books_db')\n",
        "        cursor.execute(f'DELETE FROM books WHERE isbn = \"{isbn}\"')\n",
        "\n",
        "def select(conn):\n",
        "    with conn.cursor() as cursor:\n",
        "      cursor.execute('USE books_db')\n",
        "      cursor.execute(f'SELECT * from books')\n",
        "      result = cursor.fetchall()\n",
        "    return result\n"
      ]
    },
    {
      "cell_type": "code",
      "execution_count": null,
      "metadata": {
        "colab": {
          "base_uri": "https://localhost:8080/",
          "height": 297
        },
        "id": "cDaO0GQBnEiu",
        "outputId": "4f8922d3-6f76-4598-fd47-8f0262ce6449"
      },
      "outputs": [
        {
          "output_type": "error",
          "ename": "NameError",
          "evalue": "name 'connection' is not defined",
          "traceback": [
            "\u001b[0;31m---------------------------------------------------------------------------\u001b[0m",
            "\u001b[0;31mNameError\u001b[0m                                 Traceback (most recent call last)",
            "\u001b[0;32m<ipython-input-5-6251f9302a05>\u001b[0m in \u001b[0;36m<cell line: 43>\u001b[0;34m()\u001b[0m\n\u001b[1;32m     42\u001b[0m \u001b[0;34m\u001b[0m\u001b[0m\n\u001b[1;32m     43\u001b[0m \u001b[0;32mif\u001b[0m \u001b[0m__name__\u001b[0m \u001b[0;34m==\u001b[0m \u001b[0;34m\"__main__\"\u001b[0m\u001b[0;34m:\u001b[0m\u001b[0;34m\u001b[0m\u001b[0;34m\u001b[0m\u001b[0m\n\u001b[0;32m---> 44\u001b[0;31m     \u001b[0mmain\u001b[0m\u001b[0;34m(\u001b[0m\u001b[0;34m)\u001b[0m\u001b[0;34m\u001b[0m\u001b[0;34m\u001b[0m\u001b[0m\n\u001b[0m",
            "\u001b[0;32m<ipython-input-5-6251f9302a05>\u001b[0m in \u001b[0;36mmain\u001b[0;34m()\u001b[0m\n\u001b[1;32m      1\u001b[0m \u001b[0;32mdef\u001b[0m \u001b[0mmain\u001b[0m\u001b[0;34m(\u001b[0m\u001b[0;34m)\u001b[0m\u001b[0;34m:\u001b[0m\u001b[0;34m\u001b[0m\u001b[0;34m\u001b[0m\u001b[0m\n\u001b[0;32m----> 2\u001b[0;31m     \u001b[0mc\u001b[0m \u001b[0;34m=\u001b[0m \u001b[0mconnection\u001b[0m\u001b[0;34m(\u001b[0m\u001b[0;34m)\u001b[0m\u001b[0;34m\u001b[0m\u001b[0;34m\u001b[0m\u001b[0m\n\u001b[0m\u001b[1;32m      3\u001b[0m     \u001b[0mcreate_db\u001b[0m\u001b[0;34m(\u001b[0m\u001b[0mc\u001b[0m\u001b[0;34m,\u001b[0m \u001b[0;34m'books_db'\u001b[0m\u001b[0;34m)\u001b[0m\u001b[0;34m\u001b[0m\u001b[0;34m\u001b[0m\u001b[0m\n\u001b[1;32m      4\u001b[0m     create_tb(c, 'books_db','books', \\\n\u001b[1;32m      5\u001b[0m     \u001b[0;31m'\u001b[0m\u001b[0misbn\u001b[0m \u001b[0mVARCHAR\u001b[0m\u001b[0;34m(\u001b[0m\u001b[0;36m25\u001b[0m\u001b[0;34m)\u001b[0m \u001b[0mPRIMARY\u001b[0m \u001b[0mKEY\u001b[0m\u001b[0;34m,\u001b[0m \u001b[0mtitle\u001b[0m \u001b[0mVARCHAR\u001b[0m\u001b[0;34m(\u001b[0m\u001b[0;36m30\u001b[0m\u001b[0;34m)\u001b[0m\u001b[0;34m,\u001b[0m \u001b[0mauthor\u001b[0m \u001b[0mVARCHAR\u001b[0m\u001b[0;34m(\u001b[0m\u001b[0;36m30\u001b[0m\u001b[0;34m)\u001b[0m\u001b[0;34m,\u001b[0m\u001b[0;31m \u001b[0m\u001b[0;31m\\\u001b[0m\u001b[0;34m\u001b[0m\u001b[0;34m\u001b[0m\u001b[0m\n",
            "\u001b[0;31mNameError\u001b[0m: name 'connection' is not defined"
          ]
        }
      ],
      "source": [
        "def main():\n",
        "    c = connection()\n",
        "    create_db(c, 'books_db')\n",
        "    create_tb(c, 'books_db','books', \\\n",
        "    'isbn VARCHAR(25) PRIMARY KEY, title VARCHAR(30), \\\n",
        "    author VARCHAR(30), year_published VARCHAR(4)')\n",
        "\n",
        "    print('======Books=======')\n",
        "    print('Option: ')\n",
        "    print('1. Insert Book ')\n",
        "    print('2. Update Book')\n",
        "    print('3. Delete Book')\n",
        "    print('4. View All Book')\n",
        "    print('5. Exit')\n",
        "\n",
        "    option = int(input('Which Option? : '))\n",
        "    while(option != 5 ):\n",
        "      if(option == 1):\n",
        "        isbn = str(input('Masukkan ISBN: '))\n",
        "        title = str(input('Masukkan Judul: '))\n",
        "        author = str(input('Masukkan Pengarang: '))\n",
        "        year_published = str(input('Tahun dibuat: '))\n",
        "\n",
        "        insert(c,isbn, title, author, year_published)\n",
        "      elif(option == 2):\n",
        "        isbn = str(input('Masukkan ISBN: '))\n",
        "        title = str(input('Masukkan Judul: '))\n",
        "        author = str(input('Masukkan Pengarang: '))\n",
        "        year_published = str(input('Tahun dibuat: '))\n",
        "\n",
        "        update(c, isbn, title, author, year_published)\n",
        "\n",
        "      elif(option == 3):\n",
        "        isbn = str(input('Masukkan ISBN: '))\n",
        "        delete(c, isbn)\n",
        "      elif(option == 4):\n",
        "        print(select(c))\n",
        "      else:\n",
        "        print('The option number only 1,2,3,4 ')\n",
        "      option = int(input('Which Option? : '))\n",
        "\n",
        "\n",
        "if __name__ == \"__main__\":\n",
        "    main()"
      ]
    }
  ],
  "metadata": {
    "colab": {
      "provenance": []
    },
    "kernelspec": {
      "display_name": "Python 3",
      "name": "python3"
    },
    "language_info": {
      "name": "python"
    }
  },
  "nbformat": 4,
  "nbformat_minor": 0
}